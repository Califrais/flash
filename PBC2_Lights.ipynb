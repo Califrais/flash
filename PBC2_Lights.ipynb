{
 "cells": [
  {
   "cell_type": "markdown",
   "metadata": {},
   "source": [
    "# Lights model with PBC2 dataset"
   ]
  },
  {
   "cell_type": "code",
   "execution_count": 1,
   "metadata": {},
   "outputs": [],
   "source": [
    "# Library setup\n",
    "%reset -f\n",
    "%matplotlib inline\n",
    "import warnings\n",
    "warnings.filterwarnings('ignore')\n",
    "import numpy as np\n",
    "import pandas as pd\n",
    "import matplotlib.pyplot as plt\n",
    "from lifelines import KaplanMeierFitter\n",
    "from tick.plot import plot_point_process\n",
    "from lights.simulation import SimuJointLongitudinalSurvival\n",
    "from lights.base.utils import heatmap, annotate_heatmap, gompertz_pdf, \\\n",
    "                              gompertz_survival, visualize_vect_learning\n",
    "from sklearn.model_selection import ShuffleSplit\n",
    "from sklearn.preprocessing import LabelEncoder\n",
    "from lifelines.utils import concordance_index as c_index_score\n",
    "from IPython.display import Markdown, display\n",
    "from scipy.stats import beta\n",
    "from matplotlib import rc\n",
    "rc('text', usetex=True)\n",
    "from lights.inference import QNMCEM\n",
    "\n",
    "def printmd(string):\n",
    "    display(Markdown(string))"
   ]
  },
  {
   "cell_type": "code",
   "execution_count": 2,
   "metadata": {},
   "outputs": [],
   "source": [
    "# dataset setup\n",
    "pbc2 = pd.read_csv(\"pbc2.csv\")\n",
    "n_samples = pbc2[\"id\"].drop_duplicates().shape[0]\n",
    "long_features_list = [\"serBilir\", \"albumin\", \"SGOT\"]\n",
    "n_long_features = len(long_features_list)"
   ]
  },
  {
   "cell_type": "code",
   "execution_count": 3,
   "metadata": {},
   "outputs": [],
   "source": [
    "# data preprocessing\n",
    "# survival data\n",
    "survival_data = pbc2[[\"id\", \"years\", \"status2\", \"drug\", \"age\", \"sex\"]].drop_duplicates()\n",
    "X = survival_data[[\"drug\", \"age\", \"sex\"]]\n",
    "labelencoder = LabelEncoder()\n",
    "X[\"drug\"] = labelencoder.fit_transform(X[\"drug\"])\n",
    "X[\"sex\"] = labelencoder.fit_transform(X[\"sex\"])\n",
    "X = X.values\n",
    "T = survival_data[[\"years\"]].values.flatten()\n",
    "delta = survival_data[[\"status2\"]].values.flatten()\n",
    "\n",
    "# longitunal data\n",
    "Y_ = pbc2[[\"id\", \"year\", \"serBilir\", \"albumin\", \"SGOT\"]]\n",
    "Y = pd.DataFrame(columns=long_features_list)\n",
    "for i in range(n_samples):\n",
    "    y_i = []\n",
    "    for l in range(n_long_features):\n",
    "        Y_il = Y_[[\"year\", long_features_list[l]]][Y_[\"id\"]==i+1]\n",
    "        y_i += [pd.Series(Y_il[long_features_list[l]].values, index=Y_il[\"year\"].values)]\n",
    "    Y.loc[i] = y_i"
   ]
  },
  {
   "cell_type": "code",
   "execution_count": 4,
   "metadata": {},
   "outputs": [
    {
     "name": "stdout",
     "output_type": "stream",
     "text": [
      "Launching the solver QNMCEM...\n",
      "Launching the solver MLMM...\n",
      "Launching the solver ULMM...\n"
     ]
    },
    {
     "name": "stderr",
     "output_type": "stream",
     "text": [
      "/Users/acsi/Working/lights/.env/lib/python3.6/site-packages/statsmodels/regression/mixed_linear_model.py:2149: ConvergenceWarning: The MLE may be on the boundary of the parameter space.\n",
      "  warnings.warn(msg, ConvergenceWarning)\n"
     ]
    },
    {
     "name": "stdout",
     "output_type": "stream",
     "text": [
      "Done solving using ULMM in 2.29e+00 seconds\n",
      " n_iter  |   obj    | rel_obj \n",
      "       0 |  19009.1 |      inf\n",
      "       1 |  18977.3 | 1.68e-03\n",
      "       2 |  19015.8 | 2.03e-03\n",
      "       3 |    19006 | 5.14e-04\n",
      "       4 |  19001.3 | 2.50e-04\n",
      "       5 |  18999.7 | 8.27e-05\n",
      "       6 |  19000.1 | 2.30e-05\n",
      "       7 |  19001.9 | 9.50e-05\n",
      "       8 |  19004.7 | 1.46e-04\n",
      "       9 |  19008.2 | 1.85e-04\n",
      "      10 |  19012.3 | 2.14e-04\n",
      "Done solving using MLMM in 3.59e+00 seconds\n",
      " n_iter  |   obj    | rel_obj \n",
      "       0 |  64.0651 |      inf\n",
      "       1 |  59.8687 | 6.55e-02\n",
      "       2 |  59.3868 | 8.05e-03\n",
      "       3 |  59.6989 | 5.26e-03\n",
      "       4 |  59.1563 | 9.09e-03\n",
      "       5 |  59.2809 | 2.11e-03\n",
      "       6 |  58.8707 | 6.92e-03\n",
      "       7 |  59.1763 | 5.19e-03\n",
      "       8 |  59.3713 | 3.30e-03\n",
      "       9 |  59.0903 | 4.73e-03\n",
      "      10 |  58.8391 | 4.25e-03\n",
      "Done solving using QNMCEM in 1.20e+03 seconds\n"
     ]
    }
   ],
   "source": [
    "## Choose parameters ##\n",
    "tol = 1e-6            # tolerance for the convergence stopping criterion \n",
    "eta = 0.3             # parameter controlling the trade-off between l1 \n",
    "                      # and l2 regularization in the elasticNet\n",
    "gamma_chosen = '1se'  # way to select l_elasticNet_chosen: '1se' or 'min'\n",
    "warm_start = True     # at each L-BGFS-B iteration, reset beta to 0 or take \n",
    "                      # the previous value \n",
    "grid_size = 30        # grid size for the cross validation procedure\n",
    "metric = 'C-index'    # cross-validation metric: 'log_lik' or 'C-index'\n",
    "\n",
    "# declare learner here\n",
    "fixed_effect_time_order = 1\n",
    "qnmcem = QNMCEM(fixed_effect_time_order=fixed_effect_time_order, max_iter=10, initialize=True, print_every=1,\n",
    "               compute_obj=True)\n",
    "# qnmcem.fit(X_train, Y_train, T_train, delta_train)\n",
    "qnmcem.fit(X, Y, T, delta)\n",
    "\n",
    "# Visualize learning\n",
    "visualize_vect_learning(qnmcem, \"obj\")\n",
    "\n",
    "## Cross-validation ##\n",
    "\n",
    "## Run selected model with l_elasticNet_chosen ##\n",
    "\n",
    "# run final fit here"
   ]
  }
 ],
 "metadata": {
  "kernelspec": {
   "display_name": ".env",
   "language": "python",
   "name": ".env"
  },
  "language_info": {
   "codemirror_mode": {
    "name": "ipython",
    "version": 3
   },
   "file_extension": ".py",
   "mimetype": "text/x-python",
   "name": "python",
   "nbconvert_exporter": "python",
   "pygments_lexer": "ipython3",
   "version": "3.6.8"
  }
 },
 "nbformat": 4,
 "nbformat_minor": 4
}
