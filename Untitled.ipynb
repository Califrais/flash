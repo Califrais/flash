{
 "cells": [
  {
   "cell_type": "code",
   "execution_count": 1,
   "metadata": {},
   "outputs": [
    {
     "ename": "ERROR",
     "evalue": "Error in library(joineRML): there is no package called ‘joineRML’\n",
     "output_type": "error",
     "traceback": [
      "Error in library(joineRML): there is no package called ‘joineRML’\nTraceback:\n",
      "1. library(joineRML)"
     ]
    }
   ],
   "source": [
    "library(joineRML)\n",
    "data(heart.valve)\n",
    "hvd <- heart.valve[!is.na(heart.valve$log.grad) & !is.na(heart.valve$log.lvmi), ]\n",
    " \n",
    "set.seed(12345)\n",
    "fit <- mjoint(\n",
    "    formLongFixed = list(\"grad\" = log.grad ~ time + sex + hs,\n",
    "                         \"lvmi\" = log.lvmi ~ time + sex),\n",
    "    formLongRandom = list(\"grad\" = ~ 1 | num,\n",
    "                          \"lvmi\" = ~ time | num),\n",
    "    formSurv = Surv(fuyrs, status) ~ age,\n",
    "    data = list(hvd, hvd),\n",
    "    timeVar = \"time\")"
   ]
  },
  {
   "cell_type": "code",
   "execution_count": null,
   "metadata": {},
   "outputs": [],
   "source": []
  }
 ],
 "metadata": {
  "kernelspec": {
   "display_name": "R",
   "language": "R",
   "name": "ir"
  },
  "language_info": {
   "codemirror_mode": "r",
   "file_extension": ".r",
   "mimetype": "text/x-r-source",
   "name": "R",
   "pygments_lexer": "r",
   "version": "4.0.4"
  }
 },
 "nbformat": 4,
 "nbformat_minor": 2
}
